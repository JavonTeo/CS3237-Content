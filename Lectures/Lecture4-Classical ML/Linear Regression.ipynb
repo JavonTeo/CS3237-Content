{
 "cells": [
  {
   "cell_type": "markdown",
   "metadata": {},
   "source": [
    "# Linear Regression in Python\n",
    "\n",
    "Linear regression in Python is available through the *sklearn* machine learning library. In this hands-on exercise we will examine the relationship between various attributes of blocks of households in California and the median house value for California districts. To begin let's import some libraries:"
   ]
  },
  {
   "cell_type": "code",
   "execution_count": 18,
   "metadata": {},
   "outputs": [
    {
     "name": "stdout",
     "output_type": "stream",
     "text": [
      "Package                   Version\n",
      "------------------------- ---------------\n",
      "anyio                     4.0.0\n",
      "argon2-cffi               23.1.0\n",
      "argon2-cffi-bindings      21.2.0\n",
      "arrow                     1.2.3\n",
      "asttokens                 2.4.0\n",
      "async-lru                 2.0.4\n",
      "attrs                     23.1.0\n",
      "Babel                     2.12.1\n",
      "backcall                  0.2.0\n",
      "bcrypt                    4.0.1\n",
      "beautifulsoup4            4.12.2\n",
      "bleach                    6.0.0\n",
      "blinker                   1.4\n",
      "capstone                  4.0.2\n",
      "certifi                   2022.12.7\n",
      "cffi                      1.15.1\n",
      "charset-normalizer        3.1.0\n",
      "cmake                     3.26.3\n",
      "colored-traceback         0.3.0\n",
      "comm                      0.1.4\n",
      "command-not-found         0.3\n",
      "cryptography              40.0.1\n",
      "dbus-python               1.2.18\n",
      "debugpy                   1.7.0\n",
      "decorator                 5.1.1\n",
      "defusedxml                0.7.1\n",
      "distlib                   0.3.4\n",
      "distro                    1.7.0\n",
      "distro-info               1.1build1\n",
      "exceptiongroup            1.1.3\n",
      "executing                 1.2.0\n",
      "fastjsonschema            2.18.0\n",
      "filelock                  3.6.0\n",
      "fqdn                      1.5.1\n",
      "httplib2                  0.20.2\n",
      "idna                      3.4\n",
      "importlib-metadata        4.6.4\n",
      "intervaltree              3.1.0\n",
      "ipykernel                 6.25.2\n",
      "ipython                   8.15.0\n",
      "isoduration               20.11.0\n",
      "jedi                      0.19.0\n",
      "jeepney                   0.7.1\n",
      "Jinja2                    3.1.2\n",
      "joblib                    1.3.2\n",
      "json5                     0.9.14\n",
      "jsonpointer               2.4\n",
      "jsonschema                4.19.0\n",
      "jsonschema-specifications 2023.7.1\n",
      "jupyter_client            8.3.1\n",
      "jupyter_core              5.3.1\n",
      "jupyter-events            0.7.0\n",
      "jupyter-lsp               2.2.0\n",
      "jupyter_server            2.7.3\n",
      "jupyter_server_terminals  0.4.4\n",
      "jupyterlab                4.0.5\n",
      "jupyterlab-pygments       0.2.2\n",
      "jupyterlab_server         2.24.0\n",
      "keyring                   23.5.0\n",
      "launchpadlib              1.10.16\n",
      "lazr.restfulclient        0.14.4\n",
      "lazr.uri                  1.0.6\n",
      "lit                       16.0.5\n",
      "Mako                      1.2.4\n",
      "MarkupSafe                2.1.2\n",
      "matplotlib-inline         0.1.6\n",
      "mistune                   3.0.1\n",
      "more-itertools            8.10.0\n",
      "mpmath                    1.3.0\n",
      "nbclient                  0.8.0\n",
      "nbconvert                 7.8.0\n",
      "nbformat                  5.9.2\n",
      "nest-asyncio              1.5.7\n",
      "netifaces                 0.11.0\n",
      "notebook_shim             0.2.3\n",
      "numpy                     1.25.2\n",
      "oauthlib                  3.2.0\n",
      "overrides                 7.4.0\n",
      "packaging                 23.0\n",
      "pandas                    2.1.0\n",
      "pandocfilters             1.5.0\n",
      "paramiko                  3.1.0\n",
      "parso                     0.8.3\n",
      "pbr                       5.11.1\n",
      "pexpect                   4.8.0\n",
      "pickleshare               0.7.5\n",
      "pip                       23.0.1\n",
      "platformdirs              2.5.1\n",
      "plumbum                   1.8.1\n",
      "prometheus-client         0.17.1\n",
      "prompt-toolkit            3.0.39\n",
      "psutil                    5.9.4\n",
      "ptyprocess                0.7.0\n",
      "pure-eval                 0.2.2\n",
      "pwntools                  4.9.0\n",
      "pycparser                 2.21\n",
      "pyelftools                0.29\n",
      "Pygments                  2.13.0\n",
      "PyGObject                 3.42.1\n",
      "PyJWT                     2.3.0\n",
      "PyNaCl                    1.5.0\n",
      "pyparsing                 2.4.7\n",
      "pyserial                  3.5\n",
      "PySocks                   1.7.1\n",
      "python-apt                2.3.0+ubuntu2.1\n",
      "python-dateutil           2.8.2\n",
      "python-json-logger        2.0.7\n",
      "pytz                      2023.3\n",
      "PyYAML                    5.4.1\n",
      "pyzmq                     25.1.1\n",
      "referencing               0.30.2\n",
      "requests                  2.28.2\n",
      "rfc3339-validator         0.1.4\n",
      "rfc3986-validator         0.1.1\n",
      "ROPGadget                 7.2\n",
      "rpds-py                   0.10.2\n",
      "rpyc                      5.3.1\n",
      "scikit-learn              1.3.0\n",
      "scipy                     1.11.2\n",
      "SecretStorage             3.3.1\n",
      "Send2Trash                1.8.2\n",
      "setuptools                59.6.0\n",
      "six                       1.16.0\n",
      "sniffio                   1.3.0\n",
      "sortedcontainers          2.4.0\n",
      "soupsieve                 2.5\n",
      "stack-data                0.6.2\n",
      "stevedore                 5.1.0\n",
      "sympy                     1.12\n",
      "systemd-python            234\n",
      "tabulate                  0.8.10\n",
      "terminado                 0.17.1\n",
      "threadpoolctl             3.2.0\n",
      "tinycss2                  1.2.1\n",
      "tomli                     2.0.1\n",
      "tornado                   6.3.3\n",
      "tqdm                      4.65.0\n",
      "traitlets                 5.9.0\n",
      "types-requests            2.28.11.17\n",
      "types-urllib3             1.26.25.10\n",
      "typing_extensions         4.3.0\n",
      "tzdata                    2023.3\n",
      "ubuntu-advantage-tools    27.12\n",
      "ufw                       0.36.1\n",
      "unattended-upgrades       0.1\n",
      "unicorn                   2.0.1.post1\n",
      "uri-template              1.3.0\n",
      "urllib3                   1.26.15\n",
      "virtualenv                20.13.0+ds\n",
      "virtualenv-clone          0.5.7\n",
      "virtualenvwrapper         4.8.4\n",
      "wadllib                   1.3.6\n",
      "wcwidth                   0.2.6\n",
      "webcolors                 1.13\n",
      "webencodings              0.5.1\n",
      "websocket-client          1.6.2\n",
      "wheel                     0.37.1\n",
      "zipp                      1.0.0\n",
      "\n",
      "\u001b[1m[\u001b[0m\u001b[34;49mnotice\u001b[0m\u001b[1;39;49m]\u001b[0m\u001b[39;49m A new release of pip is available: \u001b[0m\u001b[31;49m23.0.1\u001b[0m\u001b[39;49m -> \u001b[0m\u001b[32;49m23.2.1\u001b[0m\n",
      "\u001b[1m[\u001b[0m\u001b[34;49mnotice\u001b[0m\u001b[1;39;49m]\u001b[0m\u001b[39;49m To update, run: \u001b[0m\u001b[32;49mpip install --upgrade pip\u001b[0m\n",
      "Note: you may need to restart the kernel to use updated packages.\n"
     ]
    }
   ],
   "source": [
    "pip list"
   ]
  },
  {
   "cell_type": "code",
   "execution_count": 13,
   "metadata": {},
   "outputs": [],
   "source": [
    "import numpy as np\n",
    "import pandas as pd\n",
    "import scipy.stats as stats\n",
    "import sklearn"
   ]
  },
  {
   "cell_type": "code",
   "execution_count": null,
   "metadata": {},
   "outputs": [],
   "source": [
    "The numpy library provides us with some convenient ways to represent and manipulate vectors and matrices, which we will use extensively in this course. \n",
    "\n",
    "The pandas library provides very nice tools for managing datasets, while scipy is the Python scientific library with useful functions. \n",
    "\n",
    "The main star of this show is sklearn, which is the Python machine learning library, providing us with tools to create regression models using linear regression, and classification models using many models including Bayesian models and Support Vector Machines, which we will look at in this lecture.\n",
    "\n",
    "In the lab we will see how to use our own datasets, but for this lecture we will use some toy datasets that are given in sklearn. The toy datasets, amongst many others, include:\n",
    "\n",
    "- iris: Dataset on iris flowers for classification.\n",
    "- diabetes: A diabetes regression dataset.\n",
    "- digits: A collection of 8x8 images of digits for classification.\n",
    "- wines: Data on wine types for classification.\n",
    "- linnerrud: Dataset of physiological features of members of a fitness club for regression.\n",
    "- breast cancer: Breast cancer dataset for regression.\n",
    "\n",
    "Feel free to play around with the above datasets.\n",
    "\n",
    "## Loading the California housing dataset\n",
    "https://scikit-learn.org/stable/datasets\n",
    "\n",
    "For now we will use the California housing dataset. To load it:\n"
   ]
  },
  {
   "cell_type": "code",
   "execution_count": 26,
   "metadata": {},
   "outputs": [],
   "source": [
    "from sklearn.datasets import fetch_california_housing\n",
    "housing = fetch_california_housing()"
   ]
  },
  {
   "cell_type": "markdown",
   "metadata": {},
   "source": [
    "We can see how big out dataset is:"
   ]
  },
  {
   "cell_type": "code",
   "execution_count": 27,
   "metadata": {},
   "outputs": [
    {
     "data": {
      "text/plain": [
       "(20640, 8)"
      ]
     },
     "execution_count": 27,
     "metadata": {},
     "output_type": "execute_result"
    }
   ],
   "source": [
    "housing.data.shape"
   ]
  },
  {
   "cell_type": "markdown",
   "metadata": {},
   "source": [
    "From here we see that there's 20640 pieces of data, with 8 attributes each. Let's look at what's in this dataset by printing the first 5 entries:"
   ]
  },
  {
   "cell_type": "code",
   "execution_count": 28,
   "metadata": {},
   "outputs": [
    {
     "name": "stdout",
     "output_type": "stream",
     "text": [
      "array([[   8.325,   41.   ,    6.984,    1.024,  322.   ,    2.556,\n",
      "          37.88 , -122.23 ],\n",
      "       [   8.301,   21.   ,    6.238,    0.972, 2401.   ,    2.11 ,\n",
      "          37.86 , -122.22 ],\n",
      "       [   7.257,   52.   ,    8.288,    1.073,  496.   ,    2.802,\n",
      "          37.85 , -122.24 ],\n",
      "       [   5.643,   52.   ,    5.817,    1.073,  558.   ,    2.548,\n",
      "          37.85 , -122.25 ],\n",
      "       [   3.846,   52.   ,    6.282,    1.081,  565.   ,    2.181,\n",
      "          37.85 , -122.25 ]])\n"
     ]
    }
   ],
   "source": [
    "np.set_printoptions(precision = 3, suppress = True)\n",
    "d = repr(housing.data[:5]) # Nice printable version of housing.data\n",
    "print(d)"
   ]
  },
  {
   "cell_type": "markdown",
   "metadata": {},
   "source": [
    "As we can see we have a Numpy array of 8 attributes, just as we found when we looked at the shape of the array. To see what each attribute does:"
   ]
  },
  {
   "cell_type": "code",
   "execution_count": 29,
   "metadata": {},
   "outputs": [
    {
     "name": "stdout",
     "output_type": "stream",
     "text": [
      ".. _california_housing_dataset:\n",
      "\n",
      "California Housing dataset\n",
      "--------------------------\n",
      "\n",
      "**Data Set Characteristics:**\n",
      "\n",
      "    :Number of Instances: 20640\n",
      "\n",
      "    :Number of Attributes: 8 numeric, predictive attributes and the target\n",
      "\n",
      "    :Attribute Information:\n",
      "        - MedInc        median income in block group\n",
      "        - HouseAge      median house age in block group\n",
      "        - AveRooms      average number of rooms per household\n",
      "        - AveBedrms     average number of bedrooms per household\n",
      "        - Population    block group population\n",
      "        - AveOccup      average number of household members\n",
      "        - Latitude      block group latitude\n",
      "        - Longitude     block group longitude\n",
      "\n",
      "    :Missing Attribute Values: None\n",
      "\n",
      "This dataset was obtained from the StatLib repository.\n",
      "https://www.dcc.fc.up.pt/~ltorgo/Regression/cal_housing.html\n",
      "\n",
      "The target variable is the median house value for California districts,\n",
      "expressed in hundreds of thousands of dollars ($100,000).\n",
      "\n",
      "This dataset was derived from the 1990 U.S. census, using one row per census\n",
      "block group. A block group is the smallest geographical unit for which the U.S.\n",
      "Census Bureau publishes sample data (a block group typically has a population\n",
      "of 600 to 3,000 people).\n",
      "\n",
      "A household is a group of people residing within a home. Since the average\n",
      "number of rooms and bedrooms in this dataset are provided per household, these\n",
      "columns may take surprisingly large values for block groups with few households\n",
      "and many empty houses, such as vacation resorts.\n",
      "\n",
      "It can be downloaded/loaded using the\n",
      ":func:`sklearn.datasets.fetch_california_housing` function.\n",
      "\n",
      ".. topic:: References\n",
      "\n",
      "    - Pace, R. Kelley and Ronald Barry, Sparse Spatial Autoregressions,\n",
      "      Statistics and Probability Letters, 33 (1997) 291-297\n",
      "\n"
     ]
    }
   ],
   "source": [
    "print(housing.DESCR)"
   ]
  },
  {
   "cell_type": "markdown",
   "metadata": {},
   "source": [
    "This gives us a very nice description of the 8 attributes that are available for regression. There is a 9th attribute (the target) which is the median house value for California districts, expressed in hundreds of thousands of dollars\n",
    "\n",
    "## Creating a Pandas Dataframe\n",
    "https://pandas.pydata.org/pandas-docs/stable/reference/api/pandas.DataFrame.html\n",
    "\n",
    "To make it easier to manipulate the data, let's convert it to a Pandas dataframe, and print the first five rows:"
   ]
  },
  {
   "cell_type": "code",
   "execution_count": 30,
   "metadata": {},
   "outputs": [
    {
     "data": {
      "text/html": [
       "<div>\n",
       "<style scoped>\n",
       "    .dataframe tbody tr th:only-of-type {\n",
       "        vertical-align: middle;\n",
       "    }\n",
       "\n",
       "    .dataframe tbody tr th {\n",
       "        vertical-align: top;\n",
       "    }\n",
       "\n",
       "    .dataframe thead th {\n",
       "        text-align: right;\n",
       "    }\n",
       "</style>\n",
       "<table border=\"1\" class=\"dataframe\">\n",
       "  <thead>\n",
       "    <tr style=\"text-align: right;\">\n",
       "      <th></th>\n",
       "      <th>0</th>\n",
       "      <th>1</th>\n",
       "      <th>2</th>\n",
       "      <th>3</th>\n",
       "      <th>4</th>\n",
       "      <th>5</th>\n",
       "      <th>6</th>\n",
       "      <th>7</th>\n",
       "    </tr>\n",
       "  </thead>\n",
       "  <tbody>\n",
       "    <tr>\n",
       "      <th>0</th>\n",
       "      <td>8.3252</td>\n",
       "      <td>41.0</td>\n",
       "      <td>6.984127</td>\n",
       "      <td>1.023810</td>\n",
       "      <td>322.0</td>\n",
       "      <td>2.555556</td>\n",
       "      <td>37.88</td>\n",
       "      <td>-122.23</td>\n",
       "    </tr>\n",
       "    <tr>\n",
       "      <th>1</th>\n",
       "      <td>8.3014</td>\n",
       "      <td>21.0</td>\n",
       "      <td>6.238137</td>\n",
       "      <td>0.971880</td>\n",
       "      <td>2401.0</td>\n",
       "      <td>2.109842</td>\n",
       "      <td>37.86</td>\n",
       "      <td>-122.22</td>\n",
       "    </tr>\n",
       "    <tr>\n",
       "      <th>2</th>\n",
       "      <td>7.2574</td>\n",
       "      <td>52.0</td>\n",
       "      <td>8.288136</td>\n",
       "      <td>1.073446</td>\n",
       "      <td>496.0</td>\n",
       "      <td>2.802260</td>\n",
       "      <td>37.85</td>\n",
       "      <td>-122.24</td>\n",
       "    </tr>\n",
       "    <tr>\n",
       "      <th>3</th>\n",
       "      <td>5.6431</td>\n",
       "      <td>52.0</td>\n",
       "      <td>5.817352</td>\n",
       "      <td>1.073059</td>\n",
       "      <td>558.0</td>\n",
       "      <td>2.547945</td>\n",
       "      <td>37.85</td>\n",
       "      <td>-122.25</td>\n",
       "    </tr>\n",
       "    <tr>\n",
       "      <th>4</th>\n",
       "      <td>3.8462</td>\n",
       "      <td>52.0</td>\n",
       "      <td>6.281853</td>\n",
       "      <td>1.081081</td>\n",
       "      <td>565.0</td>\n",
       "      <td>2.181467</td>\n",
       "      <td>37.85</td>\n",
       "      <td>-122.25</td>\n",
       "    </tr>\n",
       "  </tbody>\n",
       "</table>\n",
       "</div>"
      ],
      "text/plain": [
       "        0     1         2         3       4         5      6       7\n",
       "0  8.3252  41.0  6.984127  1.023810   322.0  2.555556  37.88 -122.23\n",
       "1  8.3014  21.0  6.238137  0.971880  2401.0  2.109842  37.86 -122.22\n",
       "2  7.2574  52.0  8.288136  1.073446   496.0  2.802260  37.85 -122.24\n",
       "3  5.6431  52.0  5.817352  1.073059   558.0  2.547945  37.85 -122.25\n",
       "4  3.8462  52.0  6.281853  1.081081   565.0  2.181467  37.85 -122.25"
      ]
     },
     "execution_count": 30,
     "metadata": {},
     "output_type": "execute_result"
    }
   ],
   "source": [
    "cal = pd.DataFrame(housing.data)\n",
    "cal.head()"
   ]
  },
  {
   "cell_type": "markdown",
   "metadata": {},
   "source": [
    "Very nice, but the columns don't have headings. This is set using the list cal.columns, and as it turns out the headings are available as a list in housing.feature_names. We can just set the cal.columns accordingly. You can also load just reload the dataset as a dataframe using  fetch_california_housing(as_frame = True)."
   ]
  },
  {
   "cell_type": "code",
   "execution_count": 31,
   "metadata": {},
   "outputs": [
    {
     "data": {
      "text/html": [
       "<div>\n",
       "<style scoped>\n",
       "    .dataframe tbody tr th:only-of-type {\n",
       "        vertical-align: middle;\n",
       "    }\n",
       "\n",
       "    .dataframe tbody tr th {\n",
       "        vertical-align: top;\n",
       "    }\n",
       "\n",
       "    .dataframe thead th {\n",
       "        text-align: right;\n",
       "    }\n",
       "</style>\n",
       "<table border=\"1\" class=\"dataframe\">\n",
       "  <thead>\n",
       "    <tr style=\"text-align: right;\">\n",
       "      <th></th>\n",
       "      <th>MedInc</th>\n",
       "      <th>HouseAge</th>\n",
       "      <th>AveRooms</th>\n",
       "      <th>AveBedrms</th>\n",
       "      <th>Population</th>\n",
       "      <th>AveOccup</th>\n",
       "      <th>Latitude</th>\n",
       "      <th>Longitude</th>\n",
       "    </tr>\n",
       "  </thead>\n",
       "  <tbody>\n",
       "    <tr>\n",
       "      <th>0</th>\n",
       "      <td>8.3252</td>\n",
       "      <td>41.0</td>\n",
       "      <td>6.984127</td>\n",
       "      <td>1.023810</td>\n",
       "      <td>322.0</td>\n",
       "      <td>2.555556</td>\n",
       "      <td>37.88</td>\n",
       "      <td>-122.23</td>\n",
       "    </tr>\n",
       "    <tr>\n",
       "      <th>1</th>\n",
       "      <td>8.3014</td>\n",
       "      <td>21.0</td>\n",
       "      <td>6.238137</td>\n",
       "      <td>0.971880</td>\n",
       "      <td>2401.0</td>\n",
       "      <td>2.109842</td>\n",
       "      <td>37.86</td>\n",
       "      <td>-122.22</td>\n",
       "    </tr>\n",
       "    <tr>\n",
       "      <th>2</th>\n",
       "      <td>7.2574</td>\n",
       "      <td>52.0</td>\n",
       "      <td>8.288136</td>\n",
       "      <td>1.073446</td>\n",
       "      <td>496.0</td>\n",
       "      <td>2.802260</td>\n",
       "      <td>37.85</td>\n",
       "      <td>-122.24</td>\n",
       "    </tr>\n",
       "    <tr>\n",
       "      <th>3</th>\n",
       "      <td>5.6431</td>\n",
       "      <td>52.0</td>\n",
       "      <td>5.817352</td>\n",
       "      <td>1.073059</td>\n",
       "      <td>558.0</td>\n",
       "      <td>2.547945</td>\n",
       "      <td>37.85</td>\n",
       "      <td>-122.25</td>\n",
       "    </tr>\n",
       "    <tr>\n",
       "      <th>4</th>\n",
       "      <td>3.8462</td>\n",
       "      <td>52.0</td>\n",
       "      <td>6.281853</td>\n",
       "      <td>1.081081</td>\n",
       "      <td>565.0</td>\n",
       "      <td>2.181467</td>\n",
       "      <td>37.85</td>\n",
       "      <td>-122.25</td>\n",
       "    </tr>\n",
       "  </tbody>\n",
       "</table>\n",
       "</div>"
      ],
      "text/plain": [
       "   MedInc  HouseAge  AveRooms  AveBedrms  Population  AveOccup  Latitude  \\\n",
       "0  8.3252      41.0  6.984127   1.023810       322.0  2.555556     37.88   \n",
       "1  8.3014      21.0  6.238137   0.971880      2401.0  2.109842     37.86   \n",
       "2  7.2574      52.0  8.288136   1.073446       496.0  2.802260     37.85   \n",
       "3  5.6431      52.0  5.817352   1.073059       558.0  2.547945     37.85   \n",
       "4  3.8462      52.0  6.281853   1.081081       565.0  2.181467     37.85   \n",
       "\n",
       "   Longitude  \n",
       "0    -122.23  \n",
       "1    -122.22  \n",
       "2    -122.24  \n",
       "3    -122.25  \n",
       "4    -122.25  "
      ]
     },
     "execution_count": 31,
     "metadata": {},
     "output_type": "execute_result"
    }
   ],
   "source": [
    "cal.columns = housing.feature_names\n",
    "cal.head()"
   ]
  },
  {
   "cell_type": "markdown",
   "metadata": {},
   "source": [
    "We can now explore correlations between various columns of our data. For example, we may expect that a house with more rooms should have more bedrooms, or that the higher the median income of an area, the larger the house (i.e. more rooms). We make use of correlation to test these ideas. \n",
    "\n",
    "A correlation of 1 between two factors A and B means that factor A depends perfectly on factor B, while a correlation of -1 means that factor A is perfectly negatively correlated with factor B. We can find correlation using:\n",
    "\n",
    "```\n",
    "dataframe['A'].corr(dataframe['B'])\n",
    "```\n"
   ]
  },
  {
   "cell_type": "code",
   "execution_count": 32,
   "metadata": {},
   "outputs": [
    {
     "name": "stdout",
     "output_type": "stream",
     "text": [
      "corr rooms/bedrooms: 0.848, corr house_age/population: -0.296, corr median_income/rooms: 0.327\n"
     ]
    }
   ],
   "source": [
    "room_bedroom = cal['AveBedrms'].corr(cal['AveRooms'])\n",
    "age_pop = cal['HouseAge'].corr(cal['Population'])\n",
    "inc_room = cal['MedInc'].corr(cal['AveRooms'])\n",
    "\n",
    "\n",
    "print(\"corr rooms/bedrooms: %3.3f, corr house_age/population: %3.3f, corr median_income/rooms: %3.3f\" \n",
    "      % (room_bedroom, age_pop, inc_room))\n"
   ]
  },
  {
   "cell_type": "markdown",
   "metadata": {},
   "source": [
    "As expected, we see that the number of rooms and bedrooms have a strong correlation. We also see that there is some correlation between median icome and the average number of rooms. What is interesting is that population has an inverse correlation with house age. This is something worth looking at. :) But that's not why we are here.\n",
    "\n",
    "## Finding the Relationship Between Property Values and Median Income\n",
    "\n",
    "Let's see how we can create a linear regression model to find the relationship between property values and median income. In the  dataset, we can find the property values in housing.target. We first create a new column called \"Value\" in the Pandas dataframe, and then check that there is actually a correlation between property values and median income."
   ]
  },
  {
   "cell_type": "code",
   "execution_count": 33,
   "metadata": {},
   "outputs": [
    {
     "name": "stdout",
     "output_type": "stream",
     "text": [
      "Correlation between property values and median income: 0.688\n"
     ]
    }
   ],
   "source": [
    "cal['Value'] = housing.target\n",
    "print(\"Correlation between property values and median income: %3.3f\"\n",
    "     % cal['Value'].corr(cal['MedInc']))"
   ]
  },
  {
   "cell_type": "markdown",
   "metadata": {},
   "source": [
    "Here we can see a moderate correlation between property values and median income, as we would expect. Let's start building our training data from the Pandas dataframe:\n",
    "\n",
    "### Creating the Data\n",
    "\n",
    "We will create the training data by extracting the target or \"dependent variable\" (property values) and the data driving the target (the \"independent variable\"). We then use linear regression to find the model relating independent and dependent variables.  We begin by converting both variables to from row vectors to column vectors:"
   ]
  },
  {
   "cell_type": "code",
   "execution_count": 35,
   "metadata": {},
   "outputs": [],
   "source": [
    "X = cal['MedInc'].values.reshape(-1, 1)\n",
    "Y = cal['Value'].values.reshape(-1, 1)"
   ]
  },
  {
   "cell_type": "markdown",
   "metadata": {},
   "source": [
    "### Splitting into Training and Testing Data\n",
    "https://scikit-learn.org/stable/model_selection.html\n",
    "\n",
    "Before we create a model we always want to split the data into training data and testing (or validation) data. This allows us to test the model's \"goodness of fit\" against data it has seen for training, and data it has never seen before ('unseen data'). This is to test for \"overfitting\", where the model memorizes the training data and has excellent result, but produces very poor results for unseen data. We want to ensure that the results for both training data and testing data do not vary too greatly.\n",
    "\n",
    "We will use the train_test_split function in sklearn to put aside 33% of the data for testing. "
   ]
  },
  {
   "cell_type": "code",
   "execution_count": 36,
   "metadata": {},
   "outputs": [],
   "source": [
    "from sklearn.model_selection import train_test_split\n",
    "X_train, X_test, Y_train, Y_test = train_test_split(X, Y, test_size = 0.33)\n"
   ]
  },
  {
   "cell_type": "markdown",
   "metadata": {},
   "source": [
    "We will verify that we indeed have 33% of our data for testing:"
   ]
  },
  {
   "cell_type": "code",
   "execution_count": 37,
   "metadata": {},
   "outputs": [
    {
     "name": "stdout",
     "output_type": "stream",
     "text": [
      "%age of data used for test: 33.00%\n"
     ]
    }
   ],
   "source": [
    "all_rows = X.shape[0]\n",
    "test_rows = X_test.shape[0]\n",
    "print(\"%%age of data used for test: %3.2f%%\" % (test_rows / all_rows * 100.0))"
   ]
  },
  {
   "cell_type": "markdown",
   "metadata": {},
   "source": [
    "### Creating the Regression Model\n",
    "\n",
    "Excellent! Now let's build our regression model. We start by importing the LinearRegression class from sklearn:"
   ]
  },
  {
   "cell_type": "code",
   "execution_count": 38,
   "metadata": {},
   "outputs": [],
   "source": [
    "from sklearn.linear_model import LinearRegression\n",
    "lm = LinearRegression()"
   ]
  },
  {
   "cell_type": "markdown",
   "metadata": {},
   "source": [
    "Now we can use the fit method to learn from our data, and look at the coefficient and intercept for our model:\n"
   ]
  },
  {
   "cell_type": "code",
   "execution_count": 39,
   "metadata": {},
   "outputs": [
    {
     "name": "stdout",
     "output_type": "stream",
     "text": [
      "Coefficient: 0.4226, Intercept: 0.4373.\n"
     ]
    }
   ],
   "source": [
    "lm.fit(X_train, Y_train)\n",
    "print(\"Coefficient: %3.4f, Intercept: %3.4f.\" % (lm.coef_[0][0], lm.intercept_[0]))"
   ]
  },
  {
   "cell_type": "markdown",
   "metadata": {},
   "source": [
    "The coefficient tells us how property values increase (since it is positive) for each increase in median income, while the intercept is a base value at $0 median income.  This gives us some insight into how median income effects property values (or maybe how property values effect median income). Note that you might get slightly different values here.\n",
    "\n",
    "### Evaluating for Over-fitting\n",
    "\n",
    "We briefly mentioned overfitting earlier in this document; a model has \"overfitted\" its training data if it can perform very well predicting the outputs for training data, yet perform very poorly on data it has never seen before.\n",
    "\n",
    "So now lets now look at how well this model fits the training data and the testing data. We will take the root-mean-square error (RMSE) given by:\n",
    "\n",
    "$$\n",
    "RMSE = \\sqrt{\\frac{\\sum_{i=0}^{n-1}(y_{a,i} - y_{m,i})^2}{n} }\n",
    "$$\n",
    "\n",
    "Here $y_{a,i}$ is the i-th *actual* value from the data, and $y_{m, i}$ is the corresponding output from the model.\n",
    "\n",
    "On its own the RMSE is fairly useless, but we can use it to compare the prediction error of the model when it is using training data it has seen, and testing data it has never seen.\n",
    "\n",
    "We call lm.predict(X_train) and lm.predict(X_test) to produce the predicted property values using the training and testing data respectively, then call the mean_squared_error function from the sklearn.metrics package and square-root the result. Recall that our target values are in Y_train and Y_test:"
   ]
  },
  {
   "cell_type": "code",
   "execution_count": 40,
   "metadata": {},
   "outputs": [
    {
     "name": "stdout",
     "output_type": "stream",
     "text": [
      "RMSE for training data: 0.8362. RMSE for testing data: 0.8398.\n"
     ]
    }
   ],
   "source": [
    "from sklearn import metrics\n",
    "Y_pred_train = lm.predict(X_train)\n",
    "Y_pred_test = lm.predict(X_test)\n",
    "train_mse = np.sqrt(metrics.mean_squared_error(Y_train, Y_pred_train))\n",
    "test_mse = np.sqrt(metrics.mean_squared_error(Y_test, Y_pred_test))\n",
    "print(\"RMSE for training data: %3.4f. RMSE for testing data: %3.4f.\" % (train_mse, test_mse))\n",
    "                "
   ]
  },
  {
   "cell_type": "markdown",
   "metadata": {},
   "source": [
    "On its own the RMSE is fairly close. This means that the model performs about as well on data it has never seen, as on training data it has seen. So we are confident that the model is sufficiently \"general\" and has not memorized the training data to the detriment of unseen data.\n",
    "\n",
    "Note however that the RMSE does not give us a really good idea of how accurate our model is in absolute terms, just in relative terms. We can still use this however to compare against other models we create.\n",
    "\n"
   ]
  },
  {
   "cell_type": "markdown",
   "metadata": {},
   "source": [
    "### Playing with Our Model\n",
    "\n",
    "We can now make some predictions on our model. Note that we are not given the units of the median income, so we will assume it is in units of \\\\$10K here. We look at property values if the median income was \\\\$10K (in units of \\\\$10,000), versus values when the median income was \\\\$100K (in units of \\\\$10,000). We note that the values are in units of $100,000 and multiply accordingly.\n",
    "\n",
    "Note that lm.predict requires a 2D numpy array, which we create using np.array."
   ]
  },
  {
   "cell_type": "code",
   "execution_count": 41,
   "metadata": {},
   "outputs": [
    {
     "name": "stdout",
     "output_type": "stream",
     "text": [
      "Value at a median income of $10K is $85987.32. Value at a median income of $100K is $466346.08\n"
     ]
    }
   ],
   "source": [
    "value1 = lm.predict(np.array([[1]]))\n",
    "value2 = lm.predict(np.array([[10.0]]))\n",
    "\n",
    "print(\"Value at a median income of $10K is $%3.2f. Value at a median income of $100K is $%3.2f\"\n",
    "      % (value1[0][0] * 100000, value2[0][0] * 100000))\n"
   ]
  },
  {
   "cell_type": "markdown",
   "metadata": {},
   "source": [
    "From here we see that at a median income of \\\\$10K the house value is \\\\$85,587.68, which increases to \\\\$463,792.44 when the median income increases to \\\\$100K. We can manually verify that this is true:"
   ]
  },
  {
   "cell_type": "code",
   "execution_count": 42,
   "metadata": {},
   "outputs": [
    {
     "name": "stdout",
     "output_type": "stream",
     "text": [
      "Value at a median income of $10K is $86070.00. Value at a median income of $100K is $464880.00\n"
     ]
    }
   ],
   "source": [
    "v1 = 0.4209 * 1 + 0.4398\n",
    "v2 = 0.4209 * 10 + 0.4398\n",
    "\n",
    "print(\"Value at a median income of $10K is $%3.2f. Value at a median income of $100K is $%3.2f\"\n",
    "      % (v1 * 100000, v2 * 100000))"
   ]
  },
  {
   "cell_type": "markdown",
   "metadata": {},
   "source": [
    "We see an almost perfect match between the two models. :)"
   ]
  }
 ],
 "metadata": {
  "kernelspec": {
   "display_name": "Python 3 (ipykernel)",
   "language": "python",
   "name": "python3"
  },
  "language_info": {
   "codemirror_mode": {
    "name": "ipython",
    "version": 3
   },
   "file_extension": ".py",
   "mimetype": "text/x-python",
   "name": "python",
   "nbconvert_exporter": "python",
   "pygments_lexer": "ipython3",
   "version": "3.10.6"
  }
 },
 "nbformat": 4,
 "nbformat_minor": 4
}
